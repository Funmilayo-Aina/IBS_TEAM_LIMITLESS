{
 "cells": [
  {
   "cell_type": "markdown",
   "id": "e38f203e",
   "metadata": {},
   "source": [
    "#  THE USE OF AI IN SUSTAINABLE AGRICULTURE\n",
    "\n"
   ]
  },
  {
   "cell_type": "markdown",
   "id": "624a81a3",
   "metadata": {},
   "source": [
    "### Importing  the relevant libraries"
   ]
  },
  {
   "cell_type": "code",
   "execution_count": 1,
   "id": "9acd5619",
   "metadata": {},
   "outputs": [],
   "source": [
    "import warnings\n",
    "warnings.filterwarnings('ignore')\n",
    "import pandas as pd\n",
    "import numpy as np\n",
    "import matplotlib.pyplot as plt\n",
    "import seaborn as sns\n",
    "import plotly.express as px\n",
    "#from scipy.stats import randint\n",
    "import os,io"
   ]
  },
  {
   "cell_type": "code",
   "execution_count": 2,
   "id": "44f984c2",
   "metadata": {},
   "outputs": [],
   "source": [
    "from sklearn.ensemble import RandomForestRegressor\n",
    "from sklearn.svm import SVR\n",
    "svr_rbf = SVR(kernel=\"rbf\", C=100, gamma=0.1, epsilon=0.1)\n",
    "from sklearn.preprocessing import StandardScaler\n",
    "from sklearn.model_selection import train_test_split\n",
    "from sklearn import metrics\n",
    "import sklearn.model_selection as selection"
   ]
  },
  {
   "cell_type": "code",
   "execution_count": 3,
   "id": "6aa44657",
   "metadata": {},
   "outputs": [],
   "source": [
    "from sklearn.preprocessing import LabelEncoder\n",
    "from sklearn.ensemble import RandomForestClassifier\n",
    "from sklearn.metrics import accuracy_score"
   ]
  },
  {
   "cell_type": "code",
   "execution_count": 4,
   "id": "fc25e29d",
   "metadata": {},
   "outputs": [],
   "source": [
    "import ipywidgets\n",
    "from  ipywidgets import interact  "
   ]
  },
  {
   "cell_type": "markdown",
   "id": "a5fbc962",
   "metadata": {},
   "source": [
    "## Understanding the dataset"
   ]
  },
  {
   "cell_type": "code",
   "execution_count": 51,
   "id": "dc3f1439",
   "metadata": {},
   "outputs": [
    {
     "data": {
      "text/plain": [
       "'C:\\\\Users\\\\funmi\\\\Downloads\\\\A_DEPLOYMENT'"
      ]
     },
     "execution_count": 51,
     "metadata": {},
     "output_type": "execute_result"
    }
   ],
   "source": [
    "# checking the working directory \n",
    "%pwd"
   ]
  },
  {
   "cell_type": "markdown",
   "id": "7965e067",
   "metadata": {},
   "source": [
    "### Getting the data"
   ]
  },
  {
   "cell_type": "code",
   "execution_count": 5,
   "id": "34584cf7",
   "metadata": {},
   "outputs": [],
   "source": [
    "rabbit_dung_df_original = pd.read_csv(r\"C:\\Users\\funmi\\Downloads\\PORTFOLIO\\Build_Portforlio\\Real_Brd_New\\Data2_Rabbit_organic.csv\", delimiter=\";\")"
   ]
  },
  {
   "cell_type": "code",
   "execution_count": 6,
   "id": "66100c9e",
   "metadata": {},
   "outputs": [
    {
     "data": {
      "text/html": [
       "<div>\n",
       "<style scoped>\n",
       "    .dataframe tbody tr th:only-of-type {\n",
       "        vertical-align: middle;\n",
       "    }\n",
       "\n",
       "    .dataframe tbody tr th {\n",
       "        vertical-align: top;\n",
       "    }\n",
       "\n",
       "    .dataframe thead th {\n",
       "        text-align: right;\n",
       "    }\n",
       "</style>\n",
       "<table border=\"1\" class=\"dataframe\">\n",
       "  <thead>\n",
       "    <tr style=\"text-align: right;\">\n",
       "      <th></th>\n",
       "      <th>Experiments</th>\n",
       "      <th>Stem_lenght</th>\n",
       "      <th>Root_lenght</th>\n",
       "      <th>Stem_diameter</th>\n",
       "      <th>Chlorophyll</th>\n",
       "      <th>Above_Ground_Dry_Weight</th>\n",
       "      <th>Above_Ground_Fresh_Weight</th>\n",
       "      <th>N</th>\n",
       "      <th>P</th>\n",
       "      <th>Ca</th>\n",
       "      <th>Mg</th>\n",
       "      <th>CEI</th>\n",
       "    </tr>\n",
       "  </thead>\n",
       "  <tbody>\n",
       "    <tr>\n",
       "      <th>0</th>\n",
       "      <td>CK_Cla</td>\n",
       "      <td>0.00</td>\n",
       "      <td>1.00</td>\n",
       "      <td>0.08</td>\n",
       "      <td>1.00</td>\n",
       "      <td>0.00</td>\n",
       "      <td>0.00</td>\n",
       "      <td>0.00</td>\n",
       "      <td>0.00</td>\n",
       "      <td>0.38</td>\n",
       "      <td>0.00</td>\n",
       "      <td>0.25</td>\n",
       "    </tr>\n",
       "    <tr>\n",
       "      <th>1</th>\n",
       "      <td>T10_ Cla</td>\n",
       "      <td>0.22</td>\n",
       "      <td>0.21</td>\n",
       "      <td>0.00</td>\n",
       "      <td>0.67</td>\n",
       "      <td>0.00</td>\n",
       "      <td>0.22</td>\n",
       "      <td>0.18</td>\n",
       "      <td>1.00</td>\n",
       "      <td>1.00</td>\n",
       "      <td>0.75</td>\n",
       "      <td>0.47</td>\n",
       "    </tr>\n",
       "    <tr>\n",
       "      <th>2</th>\n",
       "      <td>T20_ Cla</td>\n",
       "      <td>0.48</td>\n",
       "      <td>0.56</td>\n",
       "      <td>0.71</td>\n",
       "      <td>0.58</td>\n",
       "      <td>0.50</td>\n",
       "      <td>0.83</td>\n",
       "      <td>0.49</td>\n",
       "      <td>0.54</td>\n",
       "      <td>0.84</td>\n",
       "      <td>1.00</td>\n",
       "      <td>0.65</td>\n",
       "    </tr>\n",
       "    <tr>\n",
       "      <th>3</th>\n",
       "      <td>T30_ Cla</td>\n",
       "      <td>0.50</td>\n",
       "      <td>0.53</td>\n",
       "      <td>0.54</td>\n",
       "      <td>0.17</td>\n",
       "      <td>0.50</td>\n",
       "      <td>0.61</td>\n",
       "      <td>1.00</td>\n",
       "      <td>0.37</td>\n",
       "      <td>0.38</td>\n",
       "      <td>0.84</td>\n",
       "      <td>0.55</td>\n",
       "    </tr>\n",
       "    <tr>\n",
       "      <th>4</th>\n",
       "      <td>T40_ Cla</td>\n",
       "      <td>1.00</td>\n",
       "      <td>0.20</td>\n",
       "      <td>0.85</td>\n",
       "      <td>0.00</td>\n",
       "      <td>0.50</td>\n",
       "      <td>0.83</td>\n",
       "      <td>0.53</td>\n",
       "      <td>0.27</td>\n",
       "      <td>0.22</td>\n",
       "      <td>1.00</td>\n",
       "      <td>0.54</td>\n",
       "    </tr>\n",
       "    <tr>\n",
       "      <th>5</th>\n",
       "      <td>T50_ Cla</td>\n",
       "      <td>0.84</td>\n",
       "      <td>0.00</td>\n",
       "      <td>1.00</td>\n",
       "      <td>0.67</td>\n",
       "      <td>1.00</td>\n",
       "      <td>1.00</td>\n",
       "      <td>0.89</td>\n",
       "      <td>0.22</td>\n",
       "      <td>0.00</td>\n",
       "      <td>0.98</td>\n",
       "      <td>0.66</td>\n",
       "    </tr>\n",
       "    <tr>\n",
       "      <th>6</th>\n",
       "      <td>CK_Cuc</td>\n",
       "      <td>0.00</td>\n",
       "      <td>0.48</td>\n",
       "      <td>0.74</td>\n",
       "      <td>0.04</td>\n",
       "      <td>0.00</td>\n",
       "      <td>0.50</td>\n",
       "      <td>0.00</td>\n",
       "      <td>0.75</td>\n",
       "      <td>0.00</td>\n",
       "      <td>0.25</td>\n",
       "      <td>0.25</td>\n",
       "    </tr>\n",
       "    <tr>\n",
       "      <th>7</th>\n",
       "      <td>T10_ Cuc</td>\n",
       "      <td>0.47</td>\n",
       "      <td>1.00</td>\n",
       "      <td>0.37</td>\n",
       "      <td>0.00</td>\n",
       "      <td>0.46</td>\n",
       "      <td>0.38</td>\n",
       "      <td>0.61</td>\n",
       "      <td>0.49</td>\n",
       "      <td>1.00</td>\n",
       "      <td>0.52</td>\n",
       "      <td>0.53</td>\n",
       "    </tr>\n",
       "    <tr>\n",
       "      <th>8</th>\n",
       "      <td>T20_ Cuc</td>\n",
       "      <td>0.38</td>\n",
       "      <td>0.72</td>\n",
       "      <td>0.35</td>\n",
       "      <td>0.37</td>\n",
       "      <td>0.00</td>\n",
       "      <td>0.11</td>\n",
       "      <td>0.06</td>\n",
       "      <td>0.85</td>\n",
       "      <td>0.75</td>\n",
       "      <td>0.64</td>\n",
       "      <td>0.42</td>\n",
       "    </tr>\n",
       "    <tr>\n",
       "      <th>9</th>\n",
       "      <td>T30_ Cuc</td>\n",
       "      <td>0.71</td>\n",
       "      <td>0.76</td>\n",
       "      <td>0.66</td>\n",
       "      <td>0.12</td>\n",
       "      <td>0.44</td>\n",
       "      <td>0.55</td>\n",
       "      <td>0.17</td>\n",
       "      <td>1.00</td>\n",
       "      <td>0.55</td>\n",
       "      <td>0.72</td>\n",
       "      <td>0.56</td>\n",
       "    </tr>\n",
       "    <tr>\n",
       "      <th>10</th>\n",
       "      <td>T40_ Cuc</td>\n",
       "      <td>1.00</td>\n",
       "      <td>0.36</td>\n",
       "      <td>1.00</td>\n",
       "      <td>0.00</td>\n",
       "      <td>0.94</td>\n",
       "      <td>0.97</td>\n",
       "      <td>0.00</td>\n",
       "      <td>0.09</td>\n",
       "      <td>0.22</td>\n",
       "      <td>0.76</td>\n",
       "      <td>0.53</td>\n",
       "    </tr>\n",
       "    <tr>\n",
       "      <th>11</th>\n",
       "      <td>T50_ Cuc</td>\n",
       "      <td>0.99</td>\n",
       "      <td>0.00</td>\n",
       "      <td>0.95</td>\n",
       "      <td>1.00</td>\n",
       "      <td>1.00</td>\n",
       "      <td>1.00</td>\n",
       "      <td>1.00</td>\n",
       "      <td>0.48</td>\n",
       "      <td>0.00</td>\n",
       "      <td>1.00</td>\n",
       "      <td>0.74</td>\n",
       "    </tr>\n",
       "  </tbody>\n",
       "</table>\n",
       "</div>"
      ],
      "text/plain": [
       "       Experiments  Stem_lenght  Root_lenght  Stem_diameter  Chlorophyll  \\\n",
       "0   CK_Cla                 0.00         1.00           0.08         1.00   \n",
       "1     T10_ Cla             0.22         0.21           0.00         0.67   \n",
       "2     T20_ Cla             0.48         0.56           0.71         0.58   \n",
       "3     T30_ Cla             0.50         0.53           0.54         0.17   \n",
       "4     T40_ Cla             1.00         0.20           0.85         0.00   \n",
       "5     T50_ Cla             0.84         0.00           1.00         0.67   \n",
       "6          CK_Cuc          0.00         0.48           0.74         0.04   \n",
       "7       T10_ Cuc           0.47         1.00           0.37         0.00   \n",
       "8       T20_ Cuc           0.38         0.72           0.35         0.37   \n",
       "9       T30_ Cuc           0.71         0.76           0.66         0.12   \n",
       "10      T40_ Cuc           1.00         0.36           1.00         0.00   \n",
       "11      T50_ Cuc           0.99         0.00           0.95         1.00   \n",
       "\n",
       "    Above_Ground_Dry_Weight  Above_Ground_Fresh_Weight     N     P    Ca  \\\n",
       "0                      0.00                       0.00  0.00  0.00  0.38   \n",
       "1                      0.00                       0.22  0.18  1.00  1.00   \n",
       "2                      0.50                       0.83  0.49  0.54  0.84   \n",
       "3                      0.50                       0.61  1.00  0.37  0.38   \n",
       "4                      0.50                       0.83  0.53  0.27  0.22   \n",
       "5                      1.00                       1.00  0.89  0.22  0.00   \n",
       "6                      0.00                       0.50  0.00  0.75  0.00   \n",
       "7                      0.46                       0.38  0.61  0.49  1.00   \n",
       "8                      0.00                       0.11  0.06  0.85  0.75   \n",
       "9                      0.44                       0.55  0.17  1.00  0.55   \n",
       "10                     0.94                       0.97  0.00  0.09  0.22   \n",
       "11                     1.00                       1.00  1.00  0.48  0.00   \n",
       "\n",
       "      Mg   CEI  \n",
       "0   0.00  0.25  \n",
       "1   0.75  0.47  \n",
       "2   1.00  0.65  \n",
       "3   0.84  0.55  \n",
       "4   1.00  0.54  \n",
       "5   0.98  0.66  \n",
       "6   0.25  0.25  \n",
       "7   0.52  0.53  \n",
       "8   0.64  0.42  \n",
       "9   0.72  0.56  \n",
       "10  0.76  0.53  \n",
       "11  1.00  0.74  "
      ]
     },
     "execution_count": 6,
     "metadata": {},
     "output_type": "execute_result"
    }
   ],
   "source": [
    "rabbit_dung_df_original"
   ]
  },
  {
   "cell_type": "markdown",
   "id": "196dd251",
   "metadata": {},
   "source": [
    "### Exploratory Data Analysis"
   ]
  },
  {
   "cell_type": "code",
   "execution_count": 7,
   "id": "5226da99",
   "metadata": {},
   "outputs": [
    {
     "data": {
      "text/plain": [
       "(12, 12)"
      ]
     },
     "execution_count": 7,
     "metadata": {},
     "output_type": "execute_result"
    }
   ],
   "source": [
    "## checking ths shape of the dataset \n",
    "rabbit_dung_df_original.shape"
   ]
  },
  {
   "cell_type": "markdown",
   "id": "cadb9284",
   "metadata": {},
   "source": [
    "### Data Description\n",
    "Experiment: name of stage of experiment\n",
    "\n",
    "Stem_lenght\n",
    "\n",
    "Root_lenght\n",
    "\n",
    "Sten_Diameter\n",
    "\n",
    "Chlorophy\n",
    "\n",
    "Above_Ground_Dry_Weight\n",
    "\n",
    "Above_Ground_Fresh_Weight\n",
    "\n",
    "N,P,Ca,Mg,CEI : Nitrogen ratio,Pottasium ratio,Calcium ratio,Magnessium ratio, and Compehensive Evaluation Index respectively. \n",
    "\n"
   ]
  },
  {
   "cell_type": "markdown",
   "id": "794b344a",
   "metadata": {},
   "source": [
    "## Simulated Data"
   ]
  },
  {
   "cell_type": "code",
   "execution_count": 8,
   "id": "9ee9af46",
   "metadata": {},
   "outputs": [],
   "source": [
    "  rabbit_dung_df= pd.read_csv(r\"C:\\Users\\funmi\\Downloads\\A_DEPLOYMENT\\simulated_data_5000.csv\")"
   ]
  },
  {
   "cell_type": "code",
   "execution_count": 9,
   "id": "94a6778b",
   "metadata": {},
   "outputs": [
    {
     "data": {
      "text/html": [
       "<div>\n",
       "<style scoped>\n",
       "    .dataframe tbody tr th:only-of-type {\n",
       "        vertical-align: middle;\n",
       "    }\n",
       "\n",
       "    .dataframe tbody tr th {\n",
       "        vertical-align: top;\n",
       "    }\n",
       "\n",
       "    .dataframe thead th {\n",
       "        text-align: right;\n",
       "    }\n",
       "</style>\n",
       "<table border=\"1\" class=\"dataframe\">\n",
       "  <thead>\n",
       "    <tr style=\"text-align: right;\">\n",
       "      <th></th>\n",
       "      <th>Experiments</th>\n",
       "      <th>Stem_lenght</th>\n",
       "      <th>Root_lenght</th>\n",
       "      <th>Stem_diameter</th>\n",
       "      <th>Chlorophyll</th>\n",
       "      <th>Above_Ground_Dry_Weight</th>\n",
       "      <th>Above_Ground_Fresh_Weight</th>\n",
       "      <th>N</th>\n",
       "      <th>P</th>\n",
       "      <th>Ca</th>\n",
       "      <th>Mg</th>\n",
       "      <th>CEI</th>\n",
       "    </tr>\n",
       "  </thead>\n",
       "  <tbody>\n",
       "    <tr>\n",
       "      <th>4995</th>\n",
       "      <td>NaN</td>\n",
       "      <td>0.4838</td>\n",
       "      <td>0.401320</td>\n",
       "      <td>0.504792</td>\n",
       "      <td>0.750159</td>\n",
       "      <td>0.803295</td>\n",
       "      <td>0.923341</td>\n",
       "      <td>0.497189</td>\n",
       "      <td>0.193838</td>\n",
       "      <td>0.764421</td>\n",
       "      <td>0.125575</td>\n",
       "      <td>0.343556</td>\n",
       "    </tr>\n",
       "    <tr>\n",
       "      <th>4996</th>\n",
       "      <td>NaN</td>\n",
       "      <td>0.4946</td>\n",
       "      <td>0.628213</td>\n",
       "      <td>0.691856</td>\n",
       "      <td>0.733028</td>\n",
       "      <td>0.193532</td>\n",
       "      <td>0.981649</td>\n",
       "      <td>0.178419</td>\n",
       "      <td>0.096073</td>\n",
       "      <td>0.664050</td>\n",
       "      <td>0.910000</td>\n",
       "      <td>0.631395</td>\n",
       "    </tr>\n",
       "    <tr>\n",
       "      <th>4997</th>\n",
       "      <td>NaN</td>\n",
       "      <td>0.4939</td>\n",
       "      <td>0.595482</td>\n",
       "      <td>0.538485</td>\n",
       "      <td>0.042748</td>\n",
       "      <td>0.681312</td>\n",
       "      <td>0.358199</td>\n",
       "      <td>0.935674</td>\n",
       "      <td>0.186790</td>\n",
       "      <td>0.302116</td>\n",
       "      <td>0.504855</td>\n",
       "      <td>0.463990</td>\n",
       "    </tr>\n",
       "    <tr>\n",
       "      <th>4998</th>\n",
       "      <td>NaN</td>\n",
       "      <td>0.4080</td>\n",
       "      <td>0.400305</td>\n",
       "      <td>0.314403</td>\n",
       "      <td>0.147185</td>\n",
       "      <td>0.820922</td>\n",
       "      <td>0.448770</td>\n",
       "      <td>0.572957</td>\n",
       "      <td>0.546553</td>\n",
       "      <td>0.575489</td>\n",
       "      <td>0.704840</td>\n",
       "      <td>0.774247</td>\n",
       "    </tr>\n",
       "    <tr>\n",
       "      <th>4999</th>\n",
       "      <td>NaN</td>\n",
       "      <td>0.3028</td>\n",
       "      <td>0.273903</td>\n",
       "      <td>0.553710</td>\n",
       "      <td>0.244513</td>\n",
       "      <td>0.588836</td>\n",
       "      <td>0.431935</td>\n",
       "      <td>0.039418</td>\n",
       "      <td>0.733986</td>\n",
       "      <td>0.274666</td>\n",
       "      <td>0.920194</td>\n",
       "      <td>0.062362</td>\n",
       "    </tr>\n",
       "  </tbody>\n",
       "</table>\n",
       "</div>"
      ],
      "text/plain": [
       "     Experiments  Stem_lenght  Root_lenght  Stem_diameter  Chlorophyll  \\\n",
       "4995         NaN       0.4838     0.401320       0.504792     0.750159   \n",
       "4996         NaN       0.4946     0.628213       0.691856     0.733028   \n",
       "4997         NaN       0.4939     0.595482       0.538485     0.042748   \n",
       "4998         NaN       0.4080     0.400305       0.314403     0.147185   \n",
       "4999         NaN       0.3028     0.273903       0.553710     0.244513   \n",
       "\n",
       "      Above_Ground_Dry_Weight  Above_Ground_Fresh_Weight         N         P  \\\n",
       "4995                 0.803295                   0.923341  0.497189  0.193838   \n",
       "4996                 0.193532                   0.981649  0.178419  0.096073   \n",
       "4997                 0.681312                   0.358199  0.935674  0.186790   \n",
       "4998                 0.820922                   0.448770  0.572957  0.546553   \n",
       "4999                 0.588836                   0.431935  0.039418  0.733986   \n",
       "\n",
       "            Ca        Mg       CEI  \n",
       "4995  0.764421  0.125575  0.343556  \n",
       "4996  0.664050  0.910000  0.631395  \n",
       "4997  0.302116  0.504855  0.463990  \n",
       "4998  0.575489  0.704840  0.774247  \n",
       "4999  0.274666  0.920194  0.062362  "
      ]
     },
     "execution_count": 9,
     "metadata": {},
     "output_type": "execute_result"
    }
   ],
   "source": [
    "rabbit_dung_df.tail()"
   ]
  },
  {
   "cell_type": "markdown",
   "id": "bbd97138",
   "metadata": {},
   "source": [
    "### Checking for missing values \n"
   ]
  },
  {
   "cell_type": "code",
   "execution_count": 10,
   "id": "3279b396",
   "metadata": {},
   "outputs": [
    {
     "data": {
      "text/plain": [
       "Experiments                  4988\n",
       "Stem_lenght                     0\n",
       "Root_lenght                     0\n",
       "Stem_diameter                   0\n",
       "Chlorophyll                     0\n",
       "Above_Ground_Dry_Weight         0\n",
       "Above_Ground_Fresh_Weight       0\n",
       "N                               0\n",
       "P                               0\n",
       "Ca                              0\n",
       "Mg                              0\n",
       "CEI                             0\n",
       "dtype: int64"
      ]
     },
     "execution_count": 10,
     "metadata": {},
     "output_type": "execute_result"
    }
   ],
   "source": [
    "rabbit_dung_df.isnull().sum()"
   ]
  },
  {
   "cell_type": "markdown",
   "id": "a292224c",
   "metadata": {},
   "source": [
    "### Observation\n",
    "Experiment column would be dropped due to large sum of missing values in the simulated column\n",
    "also because it is not so relevant to the analysis."
   ]
  },
  {
   "cell_type": "code",
   "execution_count": 11,
   "id": "8803d728",
   "metadata": {},
   "outputs": [],
   "source": [
    "## Count the different experimental stages in the da\n",
    "rabbit_dung_df.drop('Experiments', axis= 1, inplace = True)"
   ]
  },
  {
   "cell_type": "code",
   "execution_count": 12,
   "id": "08b2e625",
   "metadata": {},
   "outputs": [
    {
     "name": "stdout",
     "output_type": "stream",
     "text": [
      "average Calcium in Mixture is: 0.50\n"
     ]
    }
   ],
   "source": [
    "print(\"average Calcium in Mixture is: {0:.2f}\".format(rabbit_dung_df['Ca'].mean()))"
   ]
  },
  {
   "cell_type": "code",
   "execution_count": 13,
   "id": "ad068bc0",
   "metadata": {},
   "outputs": [
    {
     "name": "stdout",
     "output_type": "stream",
     "text": [
      "average Pottassium in Mixture is: 0.50\n"
     ]
    }
   ],
   "source": [
    "print(\"average Pottassium in Mixture is: {0:.2f}\".format(rabbit_dung_df['P'].mean()))"
   ]
  },
  {
   "cell_type": "code",
   "execution_count": 14,
   "id": "caf4563d",
   "metadata": {},
   "outputs": [
    {
     "name": "stdout",
     "output_type": "stream",
     "text": [
      "average Nitrogen in Mixture is: 0.51\n"
     ]
    }
   ],
   "source": [
    "print(\"average Nitrogen in Mixture is: {0:.2f}\".format(rabbit_dung_df['N'].mean()))"
   ]
  },
  {
   "cell_type": "code",
   "execution_count": 15,
   "id": "c131b4c6",
   "metadata": {},
   "outputs": [
    {
     "name": "stdout",
     "output_type": "stream",
     "text": [
      "Nitrogen Basic Statistics\n",
      "average Nitrogen in Mixture is: 0.00\n",
      "average Nitrogen in Mixture is: 0.51\n",
      "average Nitrogen in Mixture is: 1.00\n"
     ]
    }
   ],
   "source": [
    "print('Nitrogen Basic Statistics')\n",
    "print(\"minimum Nitrogen in Mixture is: {0:.2f}\".format(rabbit_dung_df['N'].min()))\n",
    "print(\"average Nitrogen in Mixture is: {0:.2f}\".format(rabbit_dung_df['N'].mean()))\n",
    "print(\"maximum Nitrogen in Mixture is: {0:.2f}\".format(rabbit_dung_df['N'].max()))"
   ]
  },
  {
   "cell_type": "code",
   "execution_count": 16,
   "id": "53755041",
   "metadata": {},
   "outputs": [
    {
     "data": {
      "text/html": [
       "<div>\n",
       "<style scoped>\n",
       "    .dataframe tbody tr th:only-of-type {\n",
       "        vertical-align: middle;\n",
       "    }\n",
       "\n",
       "    .dataframe tbody tr th {\n",
       "        vertical-align: top;\n",
       "    }\n",
       "\n",
       "    .dataframe thead th {\n",
       "        text-align: right;\n",
       "    }\n",
       "</style>\n",
       "<table border=\"1\" class=\"dataframe\">\n",
       "  <thead>\n",
       "    <tr style=\"text-align: right;\">\n",
       "      <th></th>\n",
       "      <th>Stem_lenght</th>\n",
       "      <th>Root_lenght</th>\n",
       "      <th>Stem_diameter</th>\n",
       "      <th>Chlorophyll</th>\n",
       "      <th>Above_Ground_Dry_Weight</th>\n",
       "      <th>Above_Ground_Fresh_Weight</th>\n",
       "      <th>N</th>\n",
       "      <th>P</th>\n",
       "      <th>Ca</th>\n",
       "      <th>Mg</th>\n",
       "      <th>CEI</th>\n",
       "    </tr>\n",
       "  </thead>\n",
       "  <tbody>\n",
       "    <tr>\n",
       "      <th>count</th>\n",
       "      <td>5000.000000</td>\n",
       "      <td>5000.000000</td>\n",
       "      <td>5000.000000</td>\n",
       "      <td>5000.000000</td>\n",
       "      <td>5000.000000</td>\n",
       "      <td>5000.000000</td>\n",
       "      <td>5000.000000</td>\n",
       "      <td>5000.000000</td>\n",
       "      <td>5000.000000</td>\n",
       "      <td>5000.000000</td>\n",
       "      <td>5000.000000</td>\n",
       "    </tr>\n",
       "    <tr>\n",
       "      <th>mean</th>\n",
       "      <td>0.468733</td>\n",
       "      <td>0.495199</td>\n",
       "      <td>0.488710</td>\n",
       "      <td>0.502905</td>\n",
       "      <td>0.503842</td>\n",
       "      <td>0.499219</td>\n",
       "      <td>0.507342</td>\n",
       "      <td>0.498400</td>\n",
       "      <td>0.496164</td>\n",
       "      <td>0.502509</td>\n",
       "      <td>0.500402</td>\n",
       "    </tr>\n",
       "    <tr>\n",
       "      <th>std</th>\n",
       "      <td>0.102189</td>\n",
       "      <td>0.288784</td>\n",
       "      <td>0.290866</td>\n",
       "      <td>0.287527</td>\n",
       "      <td>0.289206</td>\n",
       "      <td>0.287520</td>\n",
       "      <td>0.290693</td>\n",
       "      <td>0.286308</td>\n",
       "      <td>0.289632</td>\n",
       "      <td>0.287363</td>\n",
       "      <td>0.586987</td>\n",
       "    </tr>\n",
       "    <tr>\n",
       "      <th>min</th>\n",
       "      <td>0.000000</td>\n",
       "      <td>0.000000</td>\n",
       "      <td>0.000000</td>\n",
       "      <td>0.000000</td>\n",
       "      <td>0.000000</td>\n",
       "      <td>0.000000</td>\n",
       "      <td>0.000000</td>\n",
       "      <td>0.000000</td>\n",
       "      <td>0.000000</td>\n",
       "      <td>0.000000</td>\n",
       "      <td>-0.509569</td>\n",
       "    </tr>\n",
       "    <tr>\n",
       "      <th>25%</th>\n",
       "      <td>0.396100</td>\n",
       "      <td>0.246524</td>\n",
       "      <td>0.232718</td>\n",
       "      <td>0.250600</td>\n",
       "      <td>0.253490</td>\n",
       "      <td>0.252700</td>\n",
       "      <td>0.256733</td>\n",
       "      <td>0.252665</td>\n",
       "      <td>0.248691</td>\n",
       "      <td>0.252202</td>\n",
       "      <td>-0.009757</td>\n",
       "    </tr>\n",
       "    <tr>\n",
       "      <th>50%</th>\n",
       "      <td>0.463500</td>\n",
       "      <td>0.493057</td>\n",
       "      <td>0.487380</td>\n",
       "      <td>0.503181</td>\n",
       "      <td>0.506115</td>\n",
       "      <td>0.498957</td>\n",
       "      <td>0.505965</td>\n",
       "      <td>0.500205</td>\n",
       "      <td>0.493253</td>\n",
       "      <td>0.505117</td>\n",
       "      <td>0.493655</td>\n",
       "    </tr>\n",
       "    <tr>\n",
       "      <th>75%</th>\n",
       "      <td>0.534025</td>\n",
       "      <td>0.746323</td>\n",
       "      <td>0.737592</td>\n",
       "      <td>0.749385</td>\n",
       "      <td>0.752646</td>\n",
       "      <td>0.749392</td>\n",
       "      <td>0.765514</td>\n",
       "      <td>0.741419</td>\n",
       "      <td>0.751066</td>\n",
       "      <td>0.748822</td>\n",
       "      <td>0.996588</td>\n",
       "    </tr>\n",
       "    <tr>\n",
       "      <th>max</th>\n",
       "      <td>1.000000</td>\n",
       "      <td>1.000000</td>\n",
       "      <td>1.000000</td>\n",
       "      <td>1.000000</td>\n",
       "      <td>1.000000</td>\n",
       "      <td>1.000000</td>\n",
       "      <td>1.000000</td>\n",
       "      <td>1.000000</td>\n",
       "      <td>1.000000</td>\n",
       "      <td>1.000000</td>\n",
       "      <td>1.529945</td>\n",
       "    </tr>\n",
       "  </tbody>\n",
       "</table>\n",
       "</div>"
      ],
      "text/plain": [
       "       Stem_lenght  Root_lenght  Stem_diameter  Chlorophyll  \\\n",
       "count  5000.000000  5000.000000    5000.000000  5000.000000   \n",
       "mean      0.468733     0.495199       0.488710     0.502905   \n",
       "std       0.102189     0.288784       0.290866     0.287527   \n",
       "min       0.000000     0.000000       0.000000     0.000000   \n",
       "25%       0.396100     0.246524       0.232718     0.250600   \n",
       "50%       0.463500     0.493057       0.487380     0.503181   \n",
       "75%       0.534025     0.746323       0.737592     0.749385   \n",
       "max       1.000000     1.000000       1.000000     1.000000   \n",
       "\n",
       "       Above_Ground_Dry_Weight  Above_Ground_Fresh_Weight            N  \\\n",
       "count              5000.000000                5000.000000  5000.000000   \n",
       "mean                  0.503842                   0.499219     0.507342   \n",
       "std                   0.289206                   0.287520     0.290693   \n",
       "min                   0.000000                   0.000000     0.000000   \n",
       "25%                   0.253490                   0.252700     0.256733   \n",
       "50%                   0.506115                   0.498957     0.505965   \n",
       "75%                   0.752646                   0.749392     0.765514   \n",
       "max                   1.000000                   1.000000     1.000000   \n",
       "\n",
       "                 P           Ca           Mg          CEI  \n",
       "count  5000.000000  5000.000000  5000.000000  5000.000000  \n",
       "mean      0.498400     0.496164     0.502509     0.500402  \n",
       "std       0.286308     0.289632     0.287363     0.586987  \n",
       "min       0.000000     0.000000     0.000000    -0.509569  \n",
       "25%       0.252665     0.248691     0.252202    -0.009757  \n",
       "50%       0.500205     0.493253     0.505117     0.493655  \n",
       "75%       0.741419     0.751066     0.748822     0.996588  \n",
       "max       1.000000     1.000000     1.000000     1.529945  "
      ]
     },
     "execution_count": 16,
     "metadata": {},
     "output_type": "execute_result"
    }
   ],
   "source": [
    "rabbit_dung_df.describe()"
   ]
  },
  {
   "cell_type": "markdown",
   "id": "6aad3ab0",
   "metadata": {},
   "source": [
    "### Building the Predictive Modelling \n"
   ]
  },
  {
   "cell_type": "code",
   "execution_count": 17,
   "id": "58764b42",
   "metadata": {},
   "outputs": [
    {
     "data": {
      "text/plain": [
       "[]"
      ]
     },
     "execution_count": 17,
     "metadata": {},
     "output_type": "execute_result"
    }
   ],
   "source": [
    "### checking columns that are categorical\n",
    "cat_var=[item for item in rabbit_dung_df.columns if rabbit_dung_df[item].dtype =='object']\n",
    "cat_var"
   ]
  },
  {
   "cell_type": "code",
   "execution_count": 22,
   "id": "f42d82da",
   "metadata": {},
   "outputs": [
    {
     "data": {
      "text/plain": [
       "Index(['Stem_lenght', 'Root_lenght', 'Stem_diameter', 'Chlorophyll',\n",
       "       'Above_Ground_Dry_Weight', 'Above_Ground_Fresh_Weight', 'N', 'P', 'Ca',\n",
       "       'Mg', 'CEI'],\n",
       "      dtype='object')"
      ]
     },
     "execution_count": 22,
     "metadata": {},
     "output_type": "execute_result"
    }
   ],
   "source": [
    "### Cehcking the columns\n",
    "rabbit_dung_df.columns"
   ]
  },
  {
   "cell_type": "code",
   "execution_count": 18,
   "id": "393b6533",
   "metadata": {},
   "outputs": [
    {
     "data": {
      "text/plain": [
       "Stem_lenght                  float64\n",
       "Root_lenght                  float64\n",
       "Stem_diameter                float64\n",
       "Chlorophyll                  float64\n",
       "Above_Ground_Dry_Weight      float64\n",
       "Above_Ground_Fresh_Weight    float64\n",
       "N                            float64\n",
       "P                            float64\n",
       "Ca                           float64\n",
       "Mg                           float64\n",
       "CEI                          float64\n",
       "dtype: object"
      ]
     },
     "execution_count": 18,
     "metadata": {},
     "output_type": "execute_result"
    }
   ],
   "source": [
    "## check data type\n",
    "rabbit_dung_df.dtypes"
   ]
  },
  {
   "cell_type": "code",
   "execution_count": 19,
   "id": "bdb7e246",
   "metadata": {},
   "outputs": [
    {
     "name": "stdout",
     "output_type": "stream",
     "text": [
      "<class 'pandas.core.frame.DataFrame'>\n",
      "RangeIndex: 5000 entries, 0 to 4999\n",
      "Data columns (total 11 columns):\n",
      " #   Column                     Non-Null Count  Dtype  \n",
      "---  ------                     --------------  -----  \n",
      " 0   Stem_lenght                5000 non-null   float64\n",
      " 1   Root_lenght                5000 non-null   float64\n",
      " 2   Stem_diameter              5000 non-null   float64\n",
      " 3   Chlorophyll                5000 non-null   float64\n",
      " 4   Above_Ground_Dry_Weight    5000 non-null   float64\n",
      " 5   Above_Ground_Fresh_Weight  5000 non-null   float64\n",
      " 6   N                          5000 non-null   float64\n",
      " 7   P                          5000 non-null   float64\n",
      " 8   Ca                         5000 non-null   float64\n",
      " 9   Mg                         5000 non-null   float64\n",
      " 10  CEI                        5000 non-null   float64\n",
      "dtypes: float64(11)\n",
      "memory usage: 429.8 KB\n"
     ]
    }
   ],
   "source": [
    "rabbit_dung_df.info()"
   ]
  },
  {
   "cell_type": "code",
   "execution_count": 21,
   "id": "c35b39de",
   "metadata": {},
   "outputs": [
    {
     "data": {
      "text/plain": [
       "4267"
      ]
     },
     "execution_count": 21,
     "metadata": {},
     "output_type": "execute_result"
    }
   ],
   "source": [
    "## Checking the target variabble\n",
    "len(rabbit_dung_df['Stem_lenght'].unique())"
   ]
  },
  {
   "cell_type": "markdown",
   "id": "0d2808b6",
   "metadata": {},
   "source": [
    "Observation:\n",
    "    The unique values in stem lenght are about 4267\n",
    "All the data types are now floats. "
   ]
  },
  {
   "cell_type": "code",
   "execution_count": 23,
   "id": "5a0dd6e3",
   "metadata": {},
   "outputs": [],
   "source": [
    "## Create target variable \n",
    "y = rabbit_dung_df['Stem_lenght']"
   ]
  },
  {
   "cell_type": "code",
   "execution_count": 24,
   "id": "8487d69f",
   "metadata": {},
   "outputs": [],
   "source": [
    "x= rabbit_dung_df.drop(['Stem_lenght'],axis =1)"
   ]
  },
  {
   "cell_type": "code",
   "execution_count": 25,
   "id": "b24ec6bf",
   "metadata": {},
   "outputs": [
    {
     "data": {
      "text/plain": [
       "(5000, 10)"
      ]
     },
     "execution_count": 25,
     "metadata": {},
     "output_type": "execute_result"
    }
   ],
   "source": [
    "x.shape"
   ]
  },
  {
   "cell_type": "code",
   "execution_count": 26,
   "id": "3cb412f9",
   "metadata": {},
   "outputs": [
    {
     "data": {
      "text/plain": [
       "(5000,)"
      ]
     },
     "execution_count": 26,
     "metadata": {},
     "output_type": "execute_result"
    }
   ],
   "source": [
    "y.shape"
   ]
  },
  {
   "cell_type": "markdown",
   "id": "c7e2090d",
   "metadata": {},
   "source": [
    "### Splitting the dataset"
   ]
  },
  {
   "cell_type": "code",
   "execution_count": 32,
   "id": "aac967b8",
   "metadata": {},
   "outputs": [],
   "source": [
    "X_train, X_test, Y_train, Y_test= train_test_split(x, y, test_size=0.2, random_state=0)"
   ]
  },
  {
   "cell_type": "code",
   "execution_count": 33,
   "id": "c181db6b",
   "metadata": {},
   "outputs": [
    {
     "data": {
      "text/html": [
       "<style>#sk-container-id-2 {color: black;}#sk-container-id-2 pre{padding: 0;}#sk-container-id-2 div.sk-toggleable {background-color: white;}#sk-container-id-2 label.sk-toggleable__label {cursor: pointer;display: block;width: 100%;margin-bottom: 0;padding: 0.3em;box-sizing: border-box;text-align: center;}#sk-container-id-2 label.sk-toggleable__label-arrow:before {content: \"▸\";float: left;margin-right: 0.25em;color: #696969;}#sk-container-id-2 label.sk-toggleable__label-arrow:hover:before {color: black;}#sk-container-id-2 div.sk-estimator:hover label.sk-toggleable__label-arrow:before {color: black;}#sk-container-id-2 div.sk-toggleable__content {max-height: 0;max-width: 0;overflow: hidden;text-align: left;background-color: #f0f8ff;}#sk-container-id-2 div.sk-toggleable__content pre {margin: 0.2em;color: black;border-radius: 0.25em;background-color: #f0f8ff;}#sk-container-id-2 input.sk-toggleable__control:checked~div.sk-toggleable__content {max-height: 200px;max-width: 100%;overflow: auto;}#sk-container-id-2 input.sk-toggleable__control:checked~label.sk-toggleable__label-arrow:before {content: \"▾\";}#sk-container-id-2 div.sk-estimator input.sk-toggleable__control:checked~label.sk-toggleable__label {background-color: #d4ebff;}#sk-container-id-2 div.sk-label input.sk-toggleable__control:checked~label.sk-toggleable__label {background-color: #d4ebff;}#sk-container-id-2 input.sk-hidden--visually {border: 0;clip: rect(1px 1px 1px 1px);clip: rect(1px, 1px, 1px, 1px);height: 1px;margin: -1px;overflow: hidden;padding: 0;position: absolute;width: 1px;}#sk-container-id-2 div.sk-estimator {font-family: monospace;background-color: #f0f8ff;border: 1px dotted black;border-radius: 0.25em;box-sizing: border-box;margin-bottom: 0.5em;}#sk-container-id-2 div.sk-estimator:hover {background-color: #d4ebff;}#sk-container-id-2 div.sk-parallel-item::after {content: \"\";width: 100%;border-bottom: 1px solid gray;flex-grow: 1;}#sk-container-id-2 div.sk-label:hover label.sk-toggleable__label {background-color: #d4ebff;}#sk-container-id-2 div.sk-serial::before {content: \"\";position: absolute;border-left: 1px solid gray;box-sizing: border-box;top: 0;bottom: 0;left: 50%;z-index: 0;}#sk-container-id-2 div.sk-serial {display: flex;flex-direction: column;align-items: center;background-color: white;padding-right: 0.2em;padding-left: 0.2em;position: relative;}#sk-container-id-2 div.sk-item {position: relative;z-index: 1;}#sk-container-id-2 div.sk-parallel {display: flex;align-items: stretch;justify-content: center;background-color: white;position: relative;}#sk-container-id-2 div.sk-item::before, #sk-container-id-2 div.sk-parallel-item::before {content: \"\";position: absolute;border-left: 1px solid gray;box-sizing: border-box;top: 0;bottom: 0;left: 50%;z-index: -1;}#sk-container-id-2 div.sk-parallel-item {display: flex;flex-direction: column;z-index: 1;position: relative;background-color: white;}#sk-container-id-2 div.sk-parallel-item:first-child::after {align-self: flex-end;width: 50%;}#sk-container-id-2 div.sk-parallel-item:last-child::after {align-self: flex-start;width: 50%;}#sk-container-id-2 div.sk-parallel-item:only-child::after {width: 0;}#sk-container-id-2 div.sk-dashed-wrapped {border: 1px dashed gray;margin: 0 0.4em 0.5em 0.4em;box-sizing: border-box;padding-bottom: 0.4em;background-color: white;}#sk-container-id-2 div.sk-label label {font-family: monospace;font-weight: bold;display: inline-block;line-height: 1.2em;}#sk-container-id-2 div.sk-label-container {text-align: center;}#sk-container-id-2 div.sk-container {/* jupyter's `normalize.less` sets `[hidden] { display: none; }` but bootstrap.min.css set `[hidden] { display: none !important; }` so we also need the `!important` here to be able to override the default hidden behavior on the sphinx rendered scikit-learn.org. See: https://github.com/scikit-learn/scikit-learn/issues/21755 */display: inline-block !important;position: relative;}#sk-container-id-2 div.sk-text-repr-fallback {display: none;}</style><div id=\"sk-container-id-2\" class=\"sk-top-container\"><div class=\"sk-text-repr-fallback\"><pre>RandomForestRegressor()</pre><b>In a Jupyter environment, please rerun this cell to show the HTML representation or trust the notebook. <br />On GitHub, the HTML representation is unable to render, please try loading this page with nbviewer.org.</b></div><div class=\"sk-container\" hidden><div class=\"sk-item\"><div class=\"sk-estimator sk-toggleable\"><input class=\"sk-toggleable__control sk-hidden--visually\" id=\"sk-estimator-id-2\" type=\"checkbox\" checked><label for=\"sk-estimator-id-2\" class=\"sk-toggleable__label sk-toggleable__label-arrow\">RandomForestRegressor</label><div class=\"sk-toggleable__content\"><pre>RandomForestRegressor()</pre></div></div></div></div></div>"
      ],
      "text/plain": [
       "RandomForestRegressor()"
      ]
     },
     "execution_count": 33,
     "metadata": {},
     "output_type": "execute_result"
    }
   ],
   "source": [
    "## build the model\n",
    "model = RandomForestRegressor()\n",
    "model.fit(X_train,Y_train)\n"
   ]
  },
  {
   "cell_type": "code",
   "execution_count": 34,
   "id": "4474e747",
   "metadata": {},
   "outputs": [],
   "source": [
    "Rand_y_pred = model.predict(X_test)"
   ]
  },
  {
   "cell_type": "markdown",
   "id": "7883fd7b",
   "metadata": {},
   "source": [
    "## Evaluate the Model"
   ]
  },
  {
   "cell_type": "code",
   "execution_count": 35,
   "id": "db0fc136",
   "metadata": {},
   "outputs": [
    {
     "data": {
      "text/plain": [
       "0.9438919931613157"
      ]
     },
     "execution_count": 35,
     "metadata": {},
     "output_type": "execute_result"
    }
   ],
   "source": [
    "rnd_acc =model.score(X_test,Y_test)\n",
    "rnd_acc"
   ]
  },
  {
   "cell_type": "code",
   "execution_count": 39,
   "id": "52bb0978",
   "metadata": {},
   "outputs": [
    {
     "name": "stdout",
     "output_type": "stream",
     "text": [
      "RMSE 0.023811255225229113\n"
     ]
    }
   ],
   "source": [
    "print('RMSE',np.sqrt(metrics.mean_squared_error(Y_test,Rand_y_pred)))"
   ]
  },
  {
   "cell_type": "code",
   "execution_count": 36,
   "id": "1c874781",
   "metadata": {},
   "outputs": [],
   "source": [
    "from sklearn.svm import SVR\n",
    "svr_rbf = SVR(kernel=\"rbf\", C=100, gamma=0.1, epsilon=0.1)\n"
   ]
  },
  {
   "cell_type": "code",
   "execution_count": 37,
   "id": "947ad8a4",
   "metadata": {},
   "outputs": [
    {
     "data": {
      "text/html": [
       "<style>#sk-container-id-3 {color: black;}#sk-container-id-3 pre{padding: 0;}#sk-container-id-3 div.sk-toggleable {background-color: white;}#sk-container-id-3 label.sk-toggleable__label {cursor: pointer;display: block;width: 100%;margin-bottom: 0;padding: 0.3em;box-sizing: border-box;text-align: center;}#sk-container-id-3 label.sk-toggleable__label-arrow:before {content: \"▸\";float: left;margin-right: 0.25em;color: #696969;}#sk-container-id-3 label.sk-toggleable__label-arrow:hover:before {color: black;}#sk-container-id-3 div.sk-estimator:hover label.sk-toggleable__label-arrow:before {color: black;}#sk-container-id-3 div.sk-toggleable__content {max-height: 0;max-width: 0;overflow: hidden;text-align: left;background-color: #f0f8ff;}#sk-container-id-3 div.sk-toggleable__content pre {margin: 0.2em;color: black;border-radius: 0.25em;background-color: #f0f8ff;}#sk-container-id-3 input.sk-toggleable__control:checked~div.sk-toggleable__content {max-height: 200px;max-width: 100%;overflow: auto;}#sk-container-id-3 input.sk-toggleable__control:checked~label.sk-toggleable__label-arrow:before {content: \"▾\";}#sk-container-id-3 div.sk-estimator input.sk-toggleable__control:checked~label.sk-toggleable__label {background-color: #d4ebff;}#sk-container-id-3 div.sk-label input.sk-toggleable__control:checked~label.sk-toggleable__label {background-color: #d4ebff;}#sk-container-id-3 input.sk-hidden--visually {border: 0;clip: rect(1px 1px 1px 1px);clip: rect(1px, 1px, 1px, 1px);height: 1px;margin: -1px;overflow: hidden;padding: 0;position: absolute;width: 1px;}#sk-container-id-3 div.sk-estimator {font-family: monospace;background-color: #f0f8ff;border: 1px dotted black;border-radius: 0.25em;box-sizing: border-box;margin-bottom: 0.5em;}#sk-container-id-3 div.sk-estimator:hover {background-color: #d4ebff;}#sk-container-id-3 div.sk-parallel-item::after {content: \"\";width: 100%;border-bottom: 1px solid gray;flex-grow: 1;}#sk-container-id-3 div.sk-label:hover label.sk-toggleable__label {background-color: #d4ebff;}#sk-container-id-3 div.sk-serial::before {content: \"\";position: absolute;border-left: 1px solid gray;box-sizing: border-box;top: 0;bottom: 0;left: 50%;z-index: 0;}#sk-container-id-3 div.sk-serial {display: flex;flex-direction: column;align-items: center;background-color: white;padding-right: 0.2em;padding-left: 0.2em;position: relative;}#sk-container-id-3 div.sk-item {position: relative;z-index: 1;}#sk-container-id-3 div.sk-parallel {display: flex;align-items: stretch;justify-content: center;background-color: white;position: relative;}#sk-container-id-3 div.sk-item::before, #sk-container-id-3 div.sk-parallel-item::before {content: \"\";position: absolute;border-left: 1px solid gray;box-sizing: border-box;top: 0;bottom: 0;left: 50%;z-index: -1;}#sk-container-id-3 div.sk-parallel-item {display: flex;flex-direction: column;z-index: 1;position: relative;background-color: white;}#sk-container-id-3 div.sk-parallel-item:first-child::after {align-self: flex-end;width: 50%;}#sk-container-id-3 div.sk-parallel-item:last-child::after {align-self: flex-start;width: 50%;}#sk-container-id-3 div.sk-parallel-item:only-child::after {width: 0;}#sk-container-id-3 div.sk-dashed-wrapped {border: 1px dashed gray;margin: 0 0.4em 0.5em 0.4em;box-sizing: border-box;padding-bottom: 0.4em;background-color: white;}#sk-container-id-3 div.sk-label label {font-family: monospace;font-weight: bold;display: inline-block;line-height: 1.2em;}#sk-container-id-3 div.sk-label-container {text-align: center;}#sk-container-id-3 div.sk-container {/* jupyter's `normalize.less` sets `[hidden] { display: none; }` but bootstrap.min.css set `[hidden] { display: none !important; }` so we also need the `!important` here to be able to override the default hidden behavior on the sphinx rendered scikit-learn.org. See: https://github.com/scikit-learn/scikit-learn/issues/21755 */display: inline-block !important;position: relative;}#sk-container-id-3 div.sk-text-repr-fallback {display: none;}</style><div id=\"sk-container-id-3\" class=\"sk-top-container\"><div class=\"sk-text-repr-fallback\"><pre>SVR(C=100, gamma=0.1)</pre><b>In a Jupyter environment, please rerun this cell to show the HTML representation or trust the notebook. <br />On GitHub, the HTML representation is unable to render, please try loading this page with nbviewer.org.</b></div><div class=\"sk-container\" hidden><div class=\"sk-item\"><div class=\"sk-estimator sk-toggleable\"><input class=\"sk-toggleable__control sk-hidden--visually\" id=\"sk-estimator-id-3\" type=\"checkbox\" checked><label for=\"sk-estimator-id-3\" class=\"sk-toggleable__label sk-toggleable__label-arrow\">SVR</label><div class=\"sk-toggleable__content\"><pre>SVR(C=100, gamma=0.1)</pre></div></div></div></div></div>"
      ],
      "text/plain": [
       "SVR(C=100, gamma=0.1)"
      ]
     },
     "execution_count": 37,
     "metadata": {},
     "output_type": "execute_result"
    }
   ],
   "source": [
    "svr_rbf.fit(X_train,Y_train)"
   ]
  },
  {
   "cell_type": "code",
   "execution_count": 38,
   "id": "307832a4",
   "metadata": {},
   "outputs": [
    {
     "data": {
      "text/plain": [
       "0.7092336997852837"
      ]
     },
     "execution_count": 38,
     "metadata": {},
     "output_type": "execute_result"
    }
   ],
   "source": [
    "svr_acc =svr_rbf.score(X_test,Y_test)\n",
    "svr_acc"
   ]
  },
  {
   "cell_type": "markdown",
   "id": "184c3601",
   "metadata": {},
   "source": [
    "### Saving the Model"
   ]
  },
  {
   "cell_type": "code",
   "execution_count": 40,
   "id": "c70d836b",
   "metadata": {},
   "outputs": [],
   "source": [
    "import pickle"
   ]
  },
  {
   "cell_type": "code",
   "execution_count": 41,
   "id": "91b9ebd3",
   "metadata": {},
   "outputs": [],
   "source": [
    "## create the file name\n",
    "Rabbitfile = open('model.pkl','wb')"
   ]
  },
  {
   "cell_type": "code",
   "execution_count": 42,
   "id": "151fd8e5",
   "metadata": {},
   "outputs": [],
   "source": [
    "## save it using pickle and open the file and write binary\n",
    "pickle.dump(model,Rabbitfile)"
   ]
  },
  {
   "cell_type": "code",
   "execution_count": 43,
   "id": "8264267c",
   "metadata": {},
   "outputs": [],
   "source": [
    "save_model = pickle.load(open('model.pkl','rb'))\n"
   ]
  },
  {
   "cell_type": "code",
   "execution_count": 44,
   "id": "c99c394c",
   "metadata": {},
   "outputs": [
    {
     "data": {
      "text/plain": [
       "array([0.400798, 0.398513, 0.474661, 0.378427, 0.452152, 0.55465 ,\n",
       "       0.525688, 0.52121 , 0.322221, 0.385895, 0.400843, 0.381644,\n",
       "       0.458175, 0.594731, 0.353435, 0.547544, 0.411715, 0.405721,\n",
       "       0.430075, 0.507398, 0.394267, 0.444336, 0.358041, 0.357272,\n",
       "       0.585709, 0.405576, 0.354914, 0.477838, 0.431376, 0.550042,\n",
       "       0.367535, 0.488351, 0.603054, 0.272374, 0.485266, 0.395627,\n",
       "       0.370245, 0.505345, 0.335771, 0.417746, 0.567073, 0.642763,\n",
       "       0.372373, 0.43781 , 0.514094, 0.524559, 0.300559, 0.513362,\n",
       "       0.560847, 0.54901 , 0.41353 , 0.473753, 0.507383, 0.478001,\n",
       "       0.467955, 0.381191, 0.432017, 0.48584 , 0.513404, 0.486638,\n",
       "       0.359766, 0.526622, 0.37161 , 0.468384, 0.421806, 0.351558,\n",
       "       0.411786, 0.623754, 0.368377, 0.460714, 0.338195, 0.581118,\n",
       "       0.422469, 0.508517, 0.450625, 0.485831, 0.471916, 0.519801,\n",
       "       0.504986, 0.406425, 0.390024, 0.554905, 0.513265, 0.314835,\n",
       "       0.61236 , 0.596106, 0.465805, 0.422144, 0.437447, 0.517911,\n",
       "       0.440566, 0.327729, 0.468313, 0.551654, 0.537462, 0.427481,\n",
       "       0.559083, 0.369682, 0.568174, 0.57853 , 0.400626, 0.54092 ,\n",
       "       0.402126, 0.5459  , 0.458488, 0.52255 , 0.385946, 0.470118,\n",
       "       0.373082, 0.546116, 0.523892, 0.63738 , 0.356214, 0.514072,\n",
       "       0.322584, 0.37982 , 0.619207, 0.43908 , 0.708091, 0.317957,\n",
       "       0.498669, 0.563671, 0.278587, 0.39877 , 0.516989, 0.64818 ,\n",
       "       0.336599, 0.503861, 0.382455, 0.554086, 0.439599, 0.322965,\n",
       "       0.493271, 0.368804, 0.478201, 0.532635, 0.516125, 0.493802,\n",
       "       0.50575 , 0.493133, 0.472828, 0.657211, 0.41924 , 0.631619,\n",
       "       0.447172, 0.407633, 0.403924, 0.607251, 0.483228, 0.584948,\n",
       "       0.446753, 0.471838, 0.36192 , 0.545931, 0.424341, 0.547852,\n",
       "       0.500239, 0.686047, 0.568751, 0.519609, 0.596607, 0.470373,\n",
       "       0.392665, 0.633828, 0.414666, 0.533945, 0.473836, 0.298735,\n",
       "       0.621198, 0.417206, 0.797147, 0.445782, 0.637123, 0.430964,\n",
       "       0.38368 , 0.518984, 0.442135, 0.490925, 0.34258 , 0.500926,\n",
       "       0.477129, 0.471346, 0.399745, 0.440991, 0.431113, 0.423547,\n",
       "       0.420089, 0.510033, 0.449788, 0.416004, 0.501494, 0.416443,\n",
       "       0.46427 , 0.436918, 0.335628, 0.3996  , 0.58045 , 0.566658,\n",
       "       0.354541, 0.354777, 0.524001, 0.540384, 0.397414, 0.308073,\n",
       "       0.577761, 0.373841, 0.402836, 0.441376, 0.327251, 0.475614,\n",
       "       0.443024, 0.465763, 0.443568, 0.382826, 0.460451, 0.415018,\n",
       "       0.361397, 0.46638 , 0.439659, 0.483852, 0.386674, 0.560235,\n",
       "       0.495902, 0.644077, 0.383962, 0.497677, 0.536727, 0.52572 ,\n",
       "       0.488961, 0.50131 , 0.343192, 0.530714, 0.498351, 0.487084,\n",
       "       0.368075, 0.498933, 0.601768, 0.567983, 0.502297, 0.4014  ,\n",
       "       0.444318, 0.510282, 0.518107, 0.407212, 0.37653 , 0.582657,\n",
       "       0.598512, 0.504016, 0.505305, 0.437022, 0.700157, 0.395656,\n",
       "       0.523476, 0.387553, 0.328786, 0.40875 , 0.332529, 0.595997,\n",
       "       0.342091, 0.400858, 0.329088, 0.5672  , 0.701913, 0.420903,\n",
       "       0.405766, 0.373465, 0.365586, 0.469588, 0.546614, 0.591078,\n",
       "       0.336423, 0.410009, 0.426741, 0.477412, 0.45647 , 0.355152,\n",
       "       0.368845, 0.332628, 0.641104, 0.436565, 0.582008, 0.584512,\n",
       "       0.397363, 0.491523, 0.616084, 0.411143, 0.498216, 0.366406,\n",
       "       0.583635, 0.532657, 0.488093, 0.43753 , 0.440772, 0.542763,\n",
       "       0.46605 , 0.359562, 0.540819, 0.337776, 0.361257, 0.433963,\n",
       "       0.473651, 0.432332, 0.452779, 0.489472, 0.561547, 0.476575,\n",
       "       0.399282, 0.470574, 0.564238, 0.869108, 0.528642, 0.342565,\n",
       "       0.323497, 0.326897, 0.460545, 0.718107, 0.3505  , 0.490725,\n",
       "       0.451432, 0.521951, 0.515631, 0.358039, 0.499562, 0.462291,\n",
       "       0.335487, 0.346303, 0.40652 , 0.420796, 0.537733, 0.453373,\n",
       "       0.388991, 0.337119, 0.533262, 0.53748 , 0.384185, 0.375291,\n",
       "       0.532003, 0.445755, 0.483996, 0.517533, 0.45249 , 0.467566,\n",
       "       0.432852, 0.568978, 0.376378, 0.454718, 0.486986, 0.353666,\n",
       "       0.497128, 0.544903, 0.387218, 0.444474, 0.529066, 0.356175,\n",
       "       0.384108, 0.589864, 0.491524, 0.533215, 0.403802, 0.502729,\n",
       "       0.546812, 0.507078, 0.504939, 0.485359, 0.413145, 0.422056,\n",
       "       0.321536, 0.537292, 0.521569, 0.312759, 0.474908, 0.536254,\n",
       "       0.530682, 0.547139, 0.391767, 0.438488, 0.38287 , 0.466162,\n",
       "       0.385889, 0.542652, 0.614751, 0.43935 , 0.644489, 0.358456,\n",
       "       0.435365, 0.511021, 0.345009, 0.602737, 0.448255, 0.386723,\n",
       "       0.357893, 0.349342, 0.473101, 0.521751, 0.596094, 0.427417,\n",
       "       0.442569, 0.499099, 0.401336, 0.422802, 0.491872, 0.412788,\n",
       "       0.364974, 0.502985, 0.519429, 0.366279, 0.36993 , 0.40093 ,\n",
       "       0.407072, 0.336344, 0.569245, 0.631703, 0.423639, 0.350449,\n",
       "       0.365361, 0.460306, 0.411415, 0.466439, 0.334226, 0.47172 ,\n",
       "       0.479162, 0.338102, 0.488067, 0.422048, 0.502261, 0.53717 ,\n",
       "       0.498057, 0.469158, 0.449147, 0.479495, 0.544697, 0.340685,\n",
       "       0.589809, 0.551755, 0.3459  , 0.429713, 0.342597, 0.401468,\n",
       "       0.400663, 0.43163 , 0.318211, 0.275671, 0.612149, 0.424064,\n",
       "       0.32055 , 0.361735, 0.575125, 0.373903, 0.477595, 0.503164,\n",
       "       0.414631, 0.366972, 0.430628, 0.412371, 0.441725, 0.495144,\n",
       "       0.394741, 0.460783, 0.518045, 0.570019, 0.418932, 0.557496,\n",
       "       0.591875, 0.416322, 0.621555, 0.656581, 0.38438 , 0.286543,\n",
       "       0.663832, 0.467766, 0.645155, 0.497844, 0.535555, 0.408822,\n",
       "       0.502567, 0.285369, 0.436364, 0.436208, 0.449987, 0.540099,\n",
       "       0.496892, 0.434988, 0.529298, 0.596497, 0.329543, 0.375861,\n",
       "       0.592346, 0.544473, 0.380832, 0.330704, 0.395394, 0.483529,\n",
       "       0.546897, 0.415716, 0.401444, 0.466122, 0.396926, 0.600649,\n",
       "       0.415954, 0.548786, 0.353517, 0.493664, 0.597768, 0.51846 ,\n",
       "       0.50441 , 0.409075, 0.427013, 0.488227, 0.624211, 0.280914,\n",
       "       0.383848, 0.410643, 0.679537, 0.524761, 0.42768 , 0.403585,\n",
       "       0.396624, 0.409429, 0.392181, 0.371042, 0.52261 , 0.349303,\n",
       "       0.316153, 0.439993, 0.779399, 0.542502, 0.461402, 0.515523,\n",
       "       0.388947, 0.490309, 0.609112, 0.540542, 0.429793, 0.311113,\n",
       "       0.40055 , 0.378647, 0.476702, 0.292308, 0.460604, 0.496723,\n",
       "       0.524527, 0.423246, 0.391836, 0.449366, 0.598385, 0.346724,\n",
       "       0.472198, 0.53761 , 0.602996, 0.566495, 0.507704, 0.521529,\n",
       "       0.59854 , 0.394034, 0.456252, 0.388079, 0.424336, 0.365396,\n",
       "       0.40305 , 0.497724, 0.496649, 0.474972, 0.4777  , 0.588209,\n",
       "       0.405089, 0.481204, 0.373285, 0.457058, 0.45074 , 0.528188,\n",
       "       0.459235, 0.57504 , 0.471903, 0.364172, 0.494446, 0.362583,\n",
       "       0.472627, 0.383248, 0.336111, 0.494091, 0.557147, 0.441615,\n",
       "       0.656024, 0.461619, 0.42985 , 0.480426, 0.468641, 0.443604,\n",
       "       0.415533, 0.274431, 0.415666, 0.47852 , 0.370574, 0.328218,\n",
       "       0.554789, 0.455983, 0.621635, 0.550173, 0.28435 , 0.474901,\n",
       "       0.265625, 0.404008, 0.523108, 0.54096 , 0.704785, 0.418297,\n",
       "       0.372621, 0.417486, 0.592358, 0.483249, 0.375003, 0.232505,\n",
       "       0.516751, 0.437943, 0.44886 , 0.406594, 0.742407, 0.263503,\n",
       "       0.398967, 0.367093, 0.577007, 0.604001, 0.49735 , 0.443929,\n",
       "       0.425869, 0.518994, 0.472555, 0.552207, 0.478606, 0.685084,\n",
       "       0.486624, 0.490472, 0.441748, 0.501937, 0.410952, 0.483354,\n",
       "       0.354024, 0.520466, 0.482267, 0.458584, 0.371545, 0.472326,\n",
       "       0.448505, 0.518266, 0.290729, 0.588393, 0.373534, 0.534915,\n",
       "       0.571394, 0.574421, 0.416097, 0.577642, 0.352651, 0.743583,\n",
       "       0.488916, 0.347522, 0.565245, 0.36938 , 0.401143, 0.363622,\n",
       "       0.329794, 0.476019, 0.302028, 0.442096, 0.45162 , 0.319251,\n",
       "       0.492053, 0.473875, 0.551308, 0.421885, 0.44199 , 0.466454,\n",
       "       0.498053, 0.497652, 0.383821, 0.601842, 0.524809, 0.485762,\n",
       "       0.445367, 0.499089, 0.516498, 0.450191, 0.424274, 0.58614 ,\n",
       "       0.437357, 0.496989, 0.596949, 0.668635, 0.465538, 0.382658,\n",
       "       0.438523, 0.495162, 0.34214 , 0.624006, 0.625121, 0.458744,\n",
       "       0.42103 , 0.284173, 0.509907, 0.300318, 0.676313, 0.476849,\n",
       "       0.490962, 0.659073, 0.491271, 0.387264, 0.449914, 0.403834,\n",
       "       0.395559, 0.494954, 0.452271, 0.467573, 0.586163, 0.430306,\n",
       "       0.667539, 0.36988 , 0.347994, 0.57254 , 0.380925, 0.555667,\n",
       "       0.381391, 0.395777, 0.530496, 0.578769, 0.464773, 0.358733,\n",
       "       0.450626, 0.392799, 0.624085, 0.457525, 0.242825, 0.495851,\n",
       "       0.418735, 0.43513 , 0.29047 , 0.474158, 0.589824, 0.411085,\n",
       "       0.336644, 0.411044, 0.514897, 0.436852, 0.337118, 0.426963,\n",
       "       0.340249, 0.452972, 0.471264, 0.355384, 0.522508, 0.444663,\n",
       "       0.483467, 0.396239, 0.459145, 0.390204, 0.420844, 0.595253,\n",
       "       0.330306, 0.507823, 0.488226, 0.470061, 0.394734, 0.439959,\n",
       "       0.243829, 0.375688, 0.762378, 0.516341, 0.330335, 0.576953,\n",
       "       0.565787, 0.355429, 0.400341, 0.385794, 0.415036, 0.510073,\n",
       "       0.471359, 0.496917, 0.474626, 0.529471, 0.552907, 0.514782,\n",
       "       0.744382, 0.619432, 0.459017, 0.453122, 0.335965, 0.382032,\n",
       "       0.373919, 0.674947, 0.427832, 0.542339, 0.486608, 0.50717 ,\n",
       "       0.504401, 0.449609, 0.458188, 0.54069 , 0.335671, 0.582086,\n",
       "       0.303747, 0.566837, 0.50023 , 0.584098, 0.350999, 0.309544,\n",
       "       0.511672, 0.423534, 0.322188, 0.376681, 0.588363, 0.490233,\n",
       "       0.50422 , 0.406938, 0.578469, 0.357197, 0.33122 , 0.426934,\n",
       "       0.342682, 0.338984, 0.407842, 0.543028, 0.511858, 0.608702,\n",
       "       0.369764, 0.335932, 0.555667, 0.474727, 0.40264 , 0.440573,\n",
       "       0.368662, 0.323723, 0.458932, 0.397441, 0.381269, 0.448585,\n",
       "       0.249239, 0.566507, 0.341667, 0.598479, 0.481278, 0.482439,\n",
       "       0.329603, 0.374786, 0.443213, 0.393964, 0.45291 , 0.38574 ,\n",
       "       0.357243, 0.385605, 0.448686, 0.416044, 0.413268, 0.317008,\n",
       "       0.535708, 0.495193, 0.445226, 0.338602, 0.546999, 0.535494,\n",
       "       0.487082, 0.407166, 0.388826, 0.507895, 0.615866, 0.361781,\n",
       "       0.470368, 0.618787, 0.600971, 0.463621, 0.370065, 0.552893,\n",
       "       0.528577, 0.395887, 0.308894, 0.469454, 0.546716, 0.554219,\n",
       "       0.558212, 0.402402, 0.343332, 0.422008, 0.589554, 0.619992,\n",
       "       0.378648, 0.281069, 0.477862, 0.480457, 0.417158, 0.600613,\n",
       "       0.419615, 0.506597, 0.550745, 0.548034, 0.465701, 0.560695,\n",
       "       0.471115, 0.358248, 0.399446, 0.538674, 0.411275, 0.370103,\n",
       "       0.386969, 0.504093, 0.62764 , 0.406456, 0.319538, 0.483322,\n",
       "       0.49217 , 0.33407 , 0.472199, 0.466492, 0.569941, 0.532315,\n",
       "       0.402538, 0.313656, 0.391612, 0.398523, 0.51338 , 0.473319,\n",
       "       0.635511, 0.45215 , 0.388273, 0.443144, 0.541669, 0.514215,\n",
       "       0.325396, 0.449561, 0.421016, 0.481154, 0.715476, 0.555911,\n",
       "       0.357572, 0.35012 , 0.428774, 0.492402, 0.551738, 0.406483,\n",
       "       0.548021, 0.340016, 0.261338, 0.368786, 0.766916, 0.565566,\n",
       "       0.320594, 0.518089, 0.533484, 0.674075, 0.371649, 0.505262,\n",
       "       0.449234, 0.42372 , 0.51785 , 0.41479 , 0.448548, 0.35621 ,\n",
       "       0.423692, 0.477988, 0.518682, 0.745803, 0.585763, 0.486428,\n",
       "       0.730606, 0.389444, 0.587776, 0.535308, 0.30643 , 0.5015  ,\n",
       "       0.348765, 0.681494, 0.535937, 0.536614, 0.479632, 0.490336,\n",
       "       0.605341, 0.332362, 0.420535, 0.57294 , 0.5198  , 0.353713,\n",
       "       0.317713, 0.469505, 0.441939, 0.490935, 0.514431, 0.399717,\n",
       "       0.380895, 0.550421, 0.598231, 0.392161, 0.395762, 0.358546,\n",
       "       0.426135, 0.516112, 0.354109, 0.606045, 0.409421, 0.381361,\n",
       "       0.426893, 0.486892, 0.63994 , 0.537715])"
      ]
     },
     "execution_count": 44,
     "metadata": {},
     "output_type": "execute_result"
    }
   ],
   "source": [
    "save_model.predict(X_test)"
   ]
  },
  {
   "cell_type": "code",
   "execution_count": 45,
   "id": "6730d095",
   "metadata": {},
   "outputs": [
    {
     "data": {
      "text/html": [
       "<div>\n",
       "<style scoped>\n",
       "    .dataframe tbody tr th:only-of-type {\n",
       "        vertical-align: middle;\n",
       "    }\n",
       "\n",
       "    .dataframe tbody tr th {\n",
       "        vertical-align: top;\n",
       "    }\n",
       "\n",
       "    .dataframe thead th {\n",
       "        text-align: right;\n",
       "    }\n",
       "</style>\n",
       "<table border=\"1\" class=\"dataframe\">\n",
       "  <thead>\n",
       "    <tr style=\"text-align: right;\">\n",
       "      <th></th>\n",
       "      <th>Root_lenght</th>\n",
       "      <th>Stem_diameter</th>\n",
       "      <th>Chlorophyll</th>\n",
       "      <th>Above_Ground_Dry_Weight</th>\n",
       "      <th>Above_Ground_Fresh_Weight</th>\n",
       "      <th>N</th>\n",
       "      <th>P</th>\n",
       "      <th>Ca</th>\n",
       "      <th>Mg</th>\n",
       "      <th>CEI</th>\n",
       "    </tr>\n",
       "  </thead>\n",
       "  <tbody>\n",
       "    <tr>\n",
       "      <th>398</th>\n",
       "      <td>0.814671</td>\n",
       "      <td>0.611831</td>\n",
       "      <td>0.373458</td>\n",
       "      <td>0.255336</td>\n",
       "      <td>0.105874</td>\n",
       "      <td>0.354898</td>\n",
       "      <td>0.413173</td>\n",
       "      <td>0.675823</td>\n",
       "      <td>0.658160</td>\n",
       "      <td>-0.367126</td>\n",
       "    </tr>\n",
       "    <tr>\n",
       "      <th>3833</th>\n",
       "      <td>0.852527</td>\n",
       "      <td>0.561988</td>\n",
       "      <td>0.662811</td>\n",
       "      <td>0.648905</td>\n",
       "      <td>0.363982</td>\n",
       "      <td>0.075991</td>\n",
       "      <td>0.807706</td>\n",
       "      <td>0.289716</td>\n",
       "      <td>0.848930</td>\n",
       "      <td>0.731925</td>\n",
       "    </tr>\n",
       "    <tr>\n",
       "      <th>4836</th>\n",
       "      <td>0.964869</td>\n",
       "      <td>0.183070</td>\n",
       "      <td>0.115421</td>\n",
       "      <td>0.387099</td>\n",
       "      <td>0.393811</td>\n",
       "      <td>0.806253</td>\n",
       "      <td>0.468889</td>\n",
       "      <td>0.062461</td>\n",
       "      <td>0.920668</td>\n",
       "      <td>0.251404</td>\n",
       "    </tr>\n",
       "    <tr>\n",
       "      <th>4572</th>\n",
       "      <td>0.748341</td>\n",
       "      <td>0.105396</td>\n",
       "      <td>0.363035</td>\n",
       "      <td>0.263967</td>\n",
       "      <td>0.538239</td>\n",
       "      <td>0.061416</td>\n",
       "      <td>0.762464</td>\n",
       "      <td>0.106527</td>\n",
       "      <td>0.271402</td>\n",
       "      <td>1.087228</td>\n",
       "    </tr>\n",
       "    <tr>\n",
       "      <th>636</th>\n",
       "      <td>0.919793</td>\n",
       "      <td>0.094849</td>\n",
       "      <td>0.544126</td>\n",
       "      <td>0.740510</td>\n",
       "      <td>0.756927</td>\n",
       "      <td>0.606716</td>\n",
       "      <td>0.166787</td>\n",
       "      <td>0.797421</td>\n",
       "      <td>0.720111</td>\n",
       "      <td>-0.334417</td>\n",
       "    </tr>\n",
       "  </tbody>\n",
       "</table>\n",
       "</div>"
      ],
      "text/plain": [
       "      Root_lenght  Stem_diameter  Chlorophyll  Above_Ground_Dry_Weight  \\\n",
       "398      0.814671       0.611831     0.373458                 0.255336   \n",
       "3833     0.852527       0.561988     0.662811                 0.648905   \n",
       "4836     0.964869       0.183070     0.115421                 0.387099   \n",
       "4572     0.748341       0.105396     0.363035                 0.263967   \n",
       "636      0.919793       0.094849     0.544126                 0.740510   \n",
       "\n",
       "      Above_Ground_Fresh_Weight         N         P        Ca        Mg  \\\n",
       "398                    0.105874  0.354898  0.413173  0.675823  0.658160   \n",
       "3833                   0.363982  0.075991  0.807706  0.289716  0.848930   \n",
       "4836                   0.393811  0.806253  0.468889  0.062461  0.920668   \n",
       "4572                   0.538239  0.061416  0.762464  0.106527  0.271402   \n",
       "636                    0.756927  0.606716  0.166787  0.797421  0.720111   \n",
       "\n",
       "           CEI  \n",
       "398  -0.367126  \n",
       "3833  0.731925  \n",
       "4836  0.251404  \n",
       "4572  1.087228  \n",
       "636  -0.334417  "
      ]
     },
     "execution_count": 45,
     "metadata": {},
     "output_type": "execute_result"
    }
   ],
   "source": [
    "X_test.head()"
   ]
  },
  {
   "cell_type": "code",
   "execution_count": 46,
   "id": "28820011",
   "metadata": {},
   "outputs": [
    {
     "data": {
      "text/plain": [
       "array([0.31024])"
      ]
     },
     "execution_count": 46,
     "metadata": {},
     "output_type": "execute_result"
    }
   ],
   "source": [
    "## Make stem lenght preddictions\n",
    "save_model.predict([[1,0.48,0.74,0.04,0.0,0.50,0.00,0.75,0.00,0.25]])"
   ]
  },
  {
   "cell_type": "code",
   "execution_count": null,
   "id": "9f9b1f35",
   "metadata": {},
   "outputs": [],
   "source": []
  },
  {
   "cell_type": "code",
   "execution_count": null,
   "id": "12afbf8a",
   "metadata": {},
   "outputs": [],
   "source": []
  },
  {
   "cell_type": "code",
   "execution_count": null,
   "id": "1a073ca8",
   "metadata": {},
   "outputs": [],
   "source": []
  }
 ],
 "metadata": {
  "kernelspec": {
   "display_name": "Python 3 (ipykernel)",
   "language": "python",
   "name": "python3"
  },
  "language_info": {
   "codemirror_mode": {
    "name": "ipython",
    "version": 3
   },
   "file_extension": ".py",
   "mimetype": "text/x-python",
   "name": "python",
   "nbconvert_exporter": "python",
   "pygments_lexer": "ipython3",
   "version": "3.11.4"
  }
 },
 "nbformat": 4,
 "nbformat_minor": 5
}
